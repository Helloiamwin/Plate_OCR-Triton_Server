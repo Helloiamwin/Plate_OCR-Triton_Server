{
 "cells": [
  {
   "cell_type": "code",
   "execution_count": 2,
   "id": "c35b57b0",
   "metadata": {},
   "outputs": [],
   "source": [
    "import numpy as np"
   ]
  },
  {
   "cell_type": "code",
   "execution_count": 4,
   "id": "aebf44a0",
   "metadata": {},
   "outputs": [
    {
     "data": {
      "text/plain": [
       "(1, 5, 2)"
      ]
     },
     "execution_count": 4,
     "metadata": {},
     "output_type": "execute_result"
    }
   ],
   "source": [
    "a = np.random.rand(1, 5, 2)\n",
    "a.shape"
   ]
  },
  {
   "cell_type": "code",
   "execution_count": 11,
   "id": "935dfa20",
   "metadata": {},
   "outputs": [
    {
     "data": {
      "text/plain": [
       "[array([[[0.7871493 , 0.21133074],\n",
       "         [0.1918383 , 0.13824629],\n",
       "         [0.58951548, 0.50519847],\n",
       "         [0.26934463, 0.91882698],\n",
       "         [0.6863832 , 0.20011548]]]),\n",
       " array([[[0.7871493 , 0.21133074],\n",
       "         [0.1918383 , 0.13824629],\n",
       "         [0.58951548, 0.50519847],\n",
       "         [0.26934463, 0.91882698],\n",
       "         [0.6863832 , 0.20011548]]]),\n",
       " array([[[0.7871493 , 0.21133074],\n",
       "         [0.1918383 , 0.13824629],\n",
       "         [0.58951548, 0.50519847],\n",
       "         [0.26934463, 0.91882698],\n",
       "         [0.6863832 , 0.20011548]]])]"
      ]
     },
     "execution_count": 11,
     "metadata": {},
     "output_type": "execute_result"
    }
   ],
   "source": [
    "c = [a, a, a]\n",
    "c"
   ]
  },
  {
   "cell_type": "code",
   "execution_count": 12,
   "id": "519449be",
   "metadata": {},
   "outputs": [
    {
     "data": {
      "text/plain": [
       "(3, 5, 2)"
      ]
     },
     "execution_count": 12,
     "metadata": {},
     "output_type": "execute_result"
    }
   ],
   "source": [
    "b =  np.concatenate(c, axis=0)\n",
    "b.shape"
   ]
  },
  {
   "cell_type": "code",
   "execution_count": 8,
   "id": "f3d9cad3",
   "metadata": {},
   "outputs": [
    {
     "data": {
      "text/plain": [
       "array([[[0.7871493 , 0.21133074],\n",
       "        [0.1918383 , 0.13824629],\n",
       "        [0.58951548, 0.50519847],\n",
       "        [0.26934463, 0.91882698],\n",
       "        [0.6863832 , 0.20011548]],\n",
       "\n",
       "       [[0.7871493 , 0.21133074],\n",
       "        [0.1918383 , 0.13824629],\n",
       "        [0.58951548, 0.50519847],\n",
       "        [0.26934463, 0.91882698],\n",
       "        [0.6863832 , 0.20011548]]])"
      ]
     },
     "execution_count": 8,
     "metadata": {},
     "output_type": "execute_result"
    }
   ],
   "source": [
    "b"
   ]
  },
  {
   "cell_type": "code",
   "execution_count": null,
   "id": "8ab4111f",
   "metadata": {},
   "outputs": [],
   "source": []
  },
  {
   "cell_type": "code",
   "execution_count": null,
   "id": "b3761d98",
   "metadata": {},
   "outputs": [
    {
     "name": "stdout",
     "output_type": "stream",
     "text": [
      "{\n",
      "    \"__class__\": \"User\",\n",
      "    \"__module__\": \"__main__\",\n",
      "    \"name\": \"John\",\n",
      "    \"age\": 28,\n",
      "    \"active\": true,\n",
      "    \"balance\": 20.7,\n",
      "    \"friends\": [\n",
      "        \"Jane\",\n",
      "        \"Tom\"\n",
      "    ]\n",
      "}\n",
      "<class '__main__.User'>\n",
      "{\n",
      "    \"__class__\": \"Player\",\n",
      "    \"__module__\": \"__main__\",\n",
      "    \"name\": \"Max\",\n",
      "    \"nickname\": \"max1234\",\n",
      "    \"level\": 5\n",
      "}\n",
      "<class '__main__.Player'>\n"
     ]
    }
   ],
   "source": [
    "\"\"\"Generic encoder/decoder for any class with __init__ using __module__ and __class__.\"\"\"\n",
    "\n",
    "import json\n",
    "\n",
    "\n",
    "class User:\n",
    "\n",
    "    def __init__(self, name, age, active, balance, friends):\n",
    "        self.name = name\n",
    "        self.age = age\n",
    "        self.active = active\n",
    "        self.balance = balance\n",
    "        self.friends = friends\n",
    "\n",
    "\n",
    "class Player:\n",
    "\n",
    "    def __init__(self, name, nickname, level):\n",
    "        self.name = name\n",
    "        self.nickname = nickname\n",
    "        self.level = level\n",
    "\n",
    "\n",
    "def encode_obj(obj):\n",
    "    obj_dict = {\"__class__\": obj.__class__.__name__, \"__module__\": obj.__module__}\n",
    "    obj_dict.update(obj.__dict__)\n",
    "    return obj_dict\n",
    "\n",
    "\n",
    "def decode_dct(dct):\n",
    "    if \"__class__\" in dct:\n",
    "        class_name = dct.pop(\"__class__\")\n",
    "        module_name = dct.pop(\"__module__\")\n",
    "        module = __import__(module_name)\n",
    "        class_ = getattr(module, class_name)\n",
    "        return class_(**dct)\n",
    "    return dct\n",
    "\n",
    "user = User(\"John\", 28, True, 20.7, [\"Jane\", \"Tom\"])\n",
    "user_json = json.dumps(user, default=encode_obj, indent=4)\n",
    "print(user_json)\n",
    "user_decoded = json.loads(user_json, object_hook=decode_dct)\n",
    "print(type(user_decoded))\n",
    "\n",
    "player = Player(\"Max\", \"max1234\", 5)\n",
    "player_json = json.dumps(player, default=encode_obj, indent=4)\n",
    "print(player_json)\n",
    "player_decoded = json.loads(player_json, object_hook=decode_dct)\n",
    "print(type(player_decoded))"
   ]
  },
  {
   "cell_type": "code",
   "execution_count": 22,
   "id": "64266733",
   "metadata": {},
   "outputs": [],
   "source": [
    "a = [[1, 2, 3], [4, 5, 6]]"
   ]
  },
  {
   "cell_type": "code",
   "execution_count": 23,
   "id": "57c80619",
   "metadata": {},
   "outputs": [
    {
     "data": {
      "text/plain": [
       "[[1, 2, 3], [4, 5, 6], [-1, -1, -1], [-1, -1, -1], [-1, -1, -1], [-1, -1, -1]]"
      ]
     },
     "execution_count": 23,
     "metadata": {},
     "output_type": "execute_result"
    }
   ],
   "source": [
    "\n",
    "a += np.full((4, 3), -1).tolist()\n",
    "a"
   ]
  },
  {
   "cell_type": "code",
   "execution_count": 10,
   "id": "cec7e91a",
   "metadata": {},
   "outputs": [
    {
     "data": {
      "text/plain": [
       "array([[640, 640,   1,   1],\n",
       "       [640, 640,   1,   1],\n",
       "       [640, 640,   1,   1],\n",
       "       [640, 640,   1,   1],\n",
       "       [640, 640,   1,   1]], dtype=int32)"
      ]
     },
     "execution_count": 10,
     "metadata": {},
     "output_type": "execute_result"
    }
   ],
   "source": [
    "np.full((5, 4), [640, 640, 1, 1], dtype=np.int32)"
   ]
  },
  {
   "cell_type": "code",
   "execution_count": 11,
   "id": "83fb62f1",
   "metadata": {},
   "outputs": [
    {
     "data": {
      "text/plain": [
       "array([[0.98592989, 0.88141205],\n",
       "       [0.88248258, 0.8124161 ],\n",
       "       [0.77698481, 0.75581196],\n",
       "       [0.64478508, 0.03970559]])"
      ]
     },
     "execution_count": 11,
     "metadata": {},
     "output_type": "execute_result"
    }
   ],
   "source": [
    "import numpy as np\n",
    "\n",
    "a = np.random.rand(4, 2)\n",
    "a"
   ]
  },
  {
   "cell_type": "code",
   "execution_count": 12,
   "id": "ee9e59a2",
   "metadata": {},
   "outputs": [],
   "source": [
    "a[:,0] = a[:,0] * 10 + 1"
   ]
  },
  {
   "cell_type": "code",
   "execution_count": 13,
   "id": "f37c4f44",
   "metadata": {},
   "outputs": [
    {
     "data": {
      "text/plain": [
       "array([[10.85929887,  0.88141205],\n",
       "       [ 9.82482582,  0.8124161 ],\n",
       "       [ 8.76984813,  0.75581196],\n",
       "       [ 7.44785076,  0.03970559]])"
      ]
     },
     "execution_count": 13,
     "metadata": {},
     "output_type": "execute_result"
    }
   ],
   "source": [
    "a"
   ]
  },
  {
   "cell_type": "code",
   "execution_count": null,
   "id": "b63bb5a7",
   "metadata": {},
   "outputs": [],
   "source": []
  },
  {
   "cell_type": "code",
   "execution_count": null,
   "id": "ea6a64e9",
   "metadata": {},
   "outputs": [],
   "source": []
  }
 ],
 "metadata": {
  "kernelspec": {
   "display_name": "python39",
   "language": "python",
   "name": "python3"
  },
  "language_info": {
   "codemirror_mode": {
    "name": "ipython",
    "version": 3
   },
   "file_extension": ".py",
   "mimetype": "text/x-python",
   "name": "python",
   "nbconvert_exporter": "python",
   "pygments_lexer": "ipython3",
   "version": "3.9.21"
  }
 },
 "nbformat": 4,
 "nbformat_minor": 5
}
